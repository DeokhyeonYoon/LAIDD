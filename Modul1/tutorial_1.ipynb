{
 "cells": [
  {
   "cell_type": "code",
   "execution_count": 2,
   "metadata": {},
   "outputs": [
    {
     "name": "stdout",
     "output_type": "stream",
     "text": [
      "--2024-01-18 18:38:19--  https://raw.githubusercontent.com/aspuru-guzik-group/chemical_vae/master/models/zinc_properties/250k_rndm_zinc_drugs_clean_3.csv\n",
      "Resolving raw.githubusercontent.com (raw.githubusercontent.com)... 185.199.109.133, 185.199.108.133, 185.199.111.133, ...\n",
      "Connecting to raw.githubusercontent.com (raw.githubusercontent.com)|185.199.109.133|:443... connected.\n",
      "HTTP request sent, awaiting response... 200 OK\n",
      "Length: 22606589 (22M) [text/plain]\n",
      "Saving to: ‘250k_rndm_zinc_drugs_clean_3.csv’\n",
      "\n",
      "250k_rndm_zinc_drug 100%[===================>]  21.56M  21.9MB/s    in 1.0s    \n",
      "\n",
      "2024-01-18 18:38:25 (21.9 MB/s) - ‘250k_rndm_zinc_drugs_clean_3.csv’ saved [22606589/22606589]\n",
      "\n"
     ]
    }
   ],
   "source": [
    "!wget https://raw.githubusercontent.com/aspuru-guzik-group/chemical_vae/master/models/zinc_properties/250k_rndm_zinc_drugs_clean_3.csv"
   ]
  },
  {
   "cell_type": "code",
   "execution_count": 5,
   "metadata": {},
   "outputs": [
    {
     "name": "stdout",
     "output_type": "stream",
     "text": [
      "498911\n"
     ]
    }
   ],
   "source": [
    "!cat ./250k_rndm_zinc_drugs_clean_3.csv | wc -l"
   ]
  },
  {
   "cell_type": "code",
   "execution_count": 6,
   "metadata": {},
   "outputs": [
    {
     "name": "stdout",
     "output_type": "stream",
     "text": [
      "smiles,logP,qed,SAS\n",
      "\"CC(C)(C)c1ccc2occ(CC(=O)Nc3ccccc3F)c2c1\n",
      "\",5.0506,0.702012232801,2.0840945720726807\n",
      "\"C[C@@H]1CC(Nc2cncc(-c3nncn3C)c2)C[C@@H](C)C1\n",
      "\",3.1137,0.928975488089,3.4320038192747795\n",
      "\"N#Cc1ccc(-c2ccc(O[C@@H](C(=O)N3CCCC3)c3ccccc3)cc2)cc1\n",
      "\",4.96778,0.599681738168,2.4706326078252\n",
      "\"CCOC(=O)[C@@H]1CCCN(C(=O)c2nc(-c3ccc(C)cc3)n3c2CCCCC3)C1\n",
      "\",4.00022,0.690944353014,2.8227533111709646\n",
      "\"N#CC1=C(SCC(=O)Nc2cccc(Cl)c2)N=C([O-])[C@H](C#N)C12CCCCC2\n"
     ]
    }
   ],
   "source": [
    "!head ./250k_rndm_zinc_drugs_clean_3.csv"
   ]
  },
  {
   "cell_type": "code",
   "execution_count": 9,
   "metadata": {},
   "outputs": [],
   "source": [
    "# LogP\n",
    "# QED (Quantifying estimate of drug-likeness) (약물 유사성의 정량적 추정치 : 일반적으로 사용되는 정량적 약물 효능 평가 방법, PPI를 표적으로 하는 화합물에는 부적절)\n",
    "# SAS (Synthetic Accessibility Score) (합성 복잡성(출발 물질 정보+구조적 복잡성)에 따라 유기 화합물의 합성 용이성을 나타냄, 가상 스크리닝 탐색을 위한 약물 유사 분자의 합성 접근성 점수)"
   ]
  },
  {
   "cell_type": "code",
   "execution_count": 10,
   "metadata": {},
   "outputs": [
    {
     "data": {
      "text/html": [
       "<div>\n",
       "<style scoped>\n",
       "    .dataframe tbody tr th:only-of-type {\n",
       "        vertical-align: middle;\n",
       "    }\n",
       "\n",
       "    .dataframe tbody tr th {\n",
       "        vertical-align: top;\n",
       "    }\n",
       "\n",
       "    .dataframe thead th {\n",
       "        text-align: right;\n",
       "    }\n",
       "</style>\n",
       "<table border=\"1\" class=\"dataframe\">\n",
       "  <thead>\n",
       "    <tr style=\"text-align: right;\">\n",
       "      <th></th>\n",
       "      <th>smiles</th>\n",
       "      <th>logP</th>\n",
       "      <th>qed</th>\n",
       "      <th>SAS</th>\n",
       "    </tr>\n",
       "  </thead>\n",
       "  <tbody>\n",
       "    <tr>\n",
       "      <th>0</th>\n",
       "      <td>CC(C)(C)c1ccc2occ(CC(=O)Nc3ccccc3F)c2c1\\n</td>\n",
       "      <td>5.05060</td>\n",
       "      <td>0.702012</td>\n",
       "      <td>2.084095</td>\n",
       "    </tr>\n",
       "    <tr>\n",
       "      <th>1</th>\n",
       "      <td>C[C@@H]1CC(Nc2cncc(-c3nncn3C)c2)C[C@@H](C)C1\\n</td>\n",
       "      <td>3.11370</td>\n",
       "      <td>0.928975</td>\n",
       "      <td>3.432004</td>\n",
       "    </tr>\n",
       "    <tr>\n",
       "      <th>2</th>\n",
       "      <td>N#Cc1ccc(-c2ccc(O[C@@H](C(=O)N3CCCC3)c3ccccc3)...</td>\n",
       "      <td>4.96778</td>\n",
       "      <td>0.599682</td>\n",
       "      <td>2.470633</td>\n",
       "    </tr>\n",
       "    <tr>\n",
       "      <th>3</th>\n",
       "      <td>CCOC(=O)[C@@H]1CCCN(C(=O)c2nc(-c3ccc(C)cc3)n3c...</td>\n",
       "      <td>4.00022</td>\n",
       "      <td>0.690944</td>\n",
       "      <td>2.822753</td>\n",
       "    </tr>\n",
       "    <tr>\n",
       "      <th>4</th>\n",
       "      <td>N#CC1=C(SCC(=O)Nc2cccc(Cl)c2)N=C([O-])[C@H](C#...</td>\n",
       "      <td>3.60956</td>\n",
       "      <td>0.789027</td>\n",
       "      <td>4.035182</td>\n",
       "    </tr>\n",
       "    <tr>\n",
       "      <th>...</th>\n",
       "      <td>...</td>\n",
       "      <td>...</td>\n",
       "      <td>...</td>\n",
       "      <td>...</td>\n",
       "    </tr>\n",
       "    <tr>\n",
       "      <th>249450</th>\n",
       "      <td>CC1(C)CC[C@H](CNC(=O)Cn2ncc3ccccc3c2=O)c2ccccc...</td>\n",
       "      <td>3.36790</td>\n",
       "      <td>0.745901</td>\n",
       "      <td>2.900726</td>\n",
       "    </tr>\n",
       "    <tr>\n",
       "      <th>249451</th>\n",
       "      <td>Cn1ccnc1C(=O)c1ccc(NC(=O)C2CCN(C(=O)C(C)(C)C)C...</td>\n",
       "      <td>2.87430</td>\n",
       "      <td>0.799426</td>\n",
       "      <td>2.326627</td>\n",
       "    </tr>\n",
       "    <tr>\n",
       "      <th>249452</th>\n",
       "      <td>Cc1ccc(NC(=O)C(=O)N(C)Cc2ccccc2)c(C)c1\\n</td>\n",
       "      <td>2.90054</td>\n",
       "      <td>0.878086</td>\n",
       "      <td>1.840642</td>\n",
       "    </tr>\n",
       "    <tr>\n",
       "      <th>249453</th>\n",
       "      <td>Cc1cc(C(=O)Nc2ccc(OCC(N)=O)cc2)c(C)n1C1CC1\\n</td>\n",
       "      <td>2.55624</td>\n",
       "      <td>0.852917</td>\n",
       "      <td>2.024638</td>\n",
       "    </tr>\n",
       "    <tr>\n",
       "      <th>249454</th>\n",
       "      <td>O=C(CC(c1ccccc1)c1ccccc1)N1CCN(S(=O)(=O)c2cccc...</td>\n",
       "      <td>3.64990</td>\n",
       "      <td>0.370287</td>\n",
       "      <td>2.214249</td>\n",
       "    </tr>\n",
       "  </tbody>\n",
       "</table>\n",
       "<p>249455 rows × 4 columns</p>\n",
       "</div>"
      ],
      "text/plain": [
       "                                                   smiles     logP       qed  \\\n",
       "0               CC(C)(C)c1ccc2occ(CC(=O)Nc3ccccc3F)c2c1\\n  5.05060  0.702012   \n",
       "1          C[C@@H]1CC(Nc2cncc(-c3nncn3C)c2)C[C@@H](C)C1\\n  3.11370  0.928975   \n",
       "2       N#Cc1ccc(-c2ccc(O[C@@H](C(=O)N3CCCC3)c3ccccc3)...  4.96778  0.599682   \n",
       "3       CCOC(=O)[C@@H]1CCCN(C(=O)c2nc(-c3ccc(C)cc3)n3c...  4.00022  0.690944   \n",
       "4       N#CC1=C(SCC(=O)Nc2cccc(Cl)c2)N=C([O-])[C@H](C#...  3.60956  0.789027   \n",
       "...                                                   ...      ...       ...   \n",
       "249450  CC1(C)CC[C@H](CNC(=O)Cn2ncc3ccccc3c2=O)c2ccccc...  3.36790  0.745901   \n",
       "249451  Cn1ccnc1C(=O)c1ccc(NC(=O)C2CCN(C(=O)C(C)(C)C)C...  2.87430  0.799426   \n",
       "249452           Cc1ccc(NC(=O)C(=O)N(C)Cc2ccccc2)c(C)c1\\n  2.90054  0.878086   \n",
       "249453       Cc1cc(C(=O)Nc2ccc(OCC(N)=O)cc2)c(C)n1C1CC1\\n  2.55624  0.852917   \n",
       "249454  O=C(CC(c1ccccc1)c1ccccc1)N1CCN(S(=O)(=O)c2cccc...  3.64990  0.370287   \n",
       "\n",
       "             SAS  \n",
       "0       2.084095  \n",
       "1       3.432004  \n",
       "2       2.470633  \n",
       "3       2.822753  \n",
       "4       4.035182  \n",
       "...          ...  \n",
       "249450  2.900726  \n",
       "249451  2.326627  \n",
       "249452  1.840642  \n",
       "249453  2.024638  \n",
       "249454  2.214249  \n",
       "\n",
       "[249455 rows x 4 columns]"
      ]
     },
     "execution_count": 10,
     "metadata": {},
     "output_type": "execute_result"
    }
   ],
   "source": [
    "import pandas as pd\n",
    "df = pd.read_csv(\"./250k_rndm_zinc_drugs_clean_3.csv\")\n",
    "df"
   ]
  },
  {
   "cell_type": "code",
   "execution_count": 11,
   "metadata": {},
   "outputs": [
    {
     "data": {
      "text/html": [
       "<div>\n",
       "<style scoped>\n",
       "    .dataframe tbody tr th:only-of-type {\n",
       "        vertical-align: middle;\n",
       "    }\n",
       "\n",
       "    .dataframe tbody tr th {\n",
       "        vertical-align: top;\n",
       "    }\n",
       "\n",
       "    .dataframe thead th {\n",
       "        text-align: right;\n",
       "    }\n",
       "</style>\n",
       "<table border=\"1\" class=\"dataframe\">\n",
       "  <thead>\n",
       "    <tr style=\"text-align: right;\">\n",
       "      <th></th>\n",
       "      <th>logP</th>\n",
       "      <th>qed</th>\n",
       "      <th>SAS</th>\n",
       "    </tr>\n",
       "  </thead>\n",
       "  <tbody>\n",
       "    <tr>\n",
       "      <th>count</th>\n",
       "      <td>249455.000000</td>\n",
       "      <td>249455.000000</td>\n",
       "      <td>249455.000000</td>\n",
       "    </tr>\n",
       "    <tr>\n",
       "      <th>mean</th>\n",
       "      <td>2.457093</td>\n",
       "      <td>0.728264</td>\n",
       "      <td>3.053235</td>\n",
       "    </tr>\n",
       "    <tr>\n",
       "      <th>std</th>\n",
       "      <td>1.434330</td>\n",
       "      <td>0.139565</td>\n",
       "      <td>0.834796</td>\n",
       "    </tr>\n",
       "    <tr>\n",
       "      <th>min</th>\n",
       "      <td>-6.876200</td>\n",
       "      <td>0.111811</td>\n",
       "      <td>1.132738</td>\n",
       "    </tr>\n",
       "    <tr>\n",
       "      <th>25%</th>\n",
       "      <td>1.574810</td>\n",
       "      <td>0.645872</td>\n",
       "      <td>2.416627</td>\n",
       "    </tr>\n",
       "    <tr>\n",
       "      <th>50%</th>\n",
       "      <td>2.605600</td>\n",
       "      <td>0.759878</td>\n",
       "      <td>2.892993</td>\n",
       "    </tr>\n",
       "    <tr>\n",
       "      <th>75%</th>\n",
       "      <td>3.486760</td>\n",
       "      <td>0.835714</td>\n",
       "      <td>3.545533</td>\n",
       "    </tr>\n",
       "    <tr>\n",
       "      <th>max</th>\n",
       "      <td>8.252100</td>\n",
       "      <td>0.947882</td>\n",
       "      <td>7.289283</td>\n",
       "    </tr>\n",
       "  </tbody>\n",
       "</table>\n",
       "</div>"
      ],
      "text/plain": [
       "                logP            qed            SAS\n",
       "count  249455.000000  249455.000000  249455.000000\n",
       "mean        2.457093       0.728264       3.053235\n",
       "std         1.434330       0.139565       0.834796\n",
       "min        -6.876200       0.111811       1.132738\n",
       "25%         1.574810       0.645872       2.416627\n",
       "50%         2.605600       0.759878       2.892993\n",
       "75%         3.486760       0.835714       3.545533\n",
       "max         8.252100       0.947882       7.289283"
      ]
     },
     "execution_count": 11,
     "metadata": {},
     "output_type": "execute_result"
    }
   ],
   "source": [
    "df.describe()"
   ]
  },
  {
   "cell_type": "code",
   "execution_count": 15,
   "metadata": {},
   "outputs": [
    {
     "data": {
      "image/png": "[encoded data removed]",
      "text/plain": [
       "<Figure size 1200x400 with 3 Axes>"
      ]
     },
     "metadata": {},
     "output_type": "display_data"
    }
   ],
   "source": [
    "import matplotlib.pyplot as plt\n",
    "plt.figure(figsize=(12,4))\n",
    "\n",
    "plt.subplot(131)\n",
    "plt.hist(df[\"logP\"], bins=10, color=\"blue\", alpha=0.7)\n",
    "plt.title(\"logP Histogram\")\n",
    "plt.xlabel(\"logP\")\n",
    "plt.ylabel(\"Frequency\")\n",
    "\n",
    "plt.subplot(132)\n",
    "plt.hist(df[\"qed\"], bins=10, color=\"green\", alpha=0.7)\n",
    "plt.title(\"qed Histogram\")\n",
    "plt.xlabel(\"qed\")\n",
    "plt.ylabel(\"Frequency\")\n",
    "\n",
    "plt.subplot(133)\n",
    "plt.hist(df[\"SAS\"], bins=10, color=\"red\", alpha=0.7)\n",
    "plt.title(\"SAS Histogram\")\n",
    "plt.xlabel(\"SAS\")\n",
    "plt.ylabel(\"Frequency\")\n",
    "\n",
    "plt.tight_layout()\n",
    "plt.show()"
   ]
  },
  {
   "cell_type": "markdown",
   "metadata": {},
   "source": [
    "## STRING database"
   ]
  },
  {
   "cell_type": "code",
   "execution_count": 16,
   "metadata": {},
   "outputs": [
    {
     "name": "stdout",
     "output_type": "stream",
     "text": [
      "--2024-01-18 18:51:33--  https://stringdb-downloads.org/download/protein.links.v12.0/9606.protein.links.v12.0.txt.gz\n",
      "Resolving stringdb-downloads.org (stringdb-downloads.org)... 49.12.123.75\n",
      "Connecting to stringdb-downloads.org (stringdb-downloads.org)|49.12.123.75|:443... connected.\n",
      "HTTP request sent, awaiting response... 200 OK\n",
      "Length: 83164437 (79M) [application/octet-stream]\n",
      "Saving to: ‘9606.protein.links.v12.0.txt.gz’\n",
      "\n",
      "9606.protein.links. 100%[===================>]  79.31M  8.44MB/s    in 11s     \n",
      "\n",
      "2024-01-18 18:51:45 (7.52 MB/s) - ‘9606.protein.links.v12.0.txt.gz’ saved [83164437/83164437]\n",
      "\n"
     ]
    }
   ],
   "source": [
    "!wget https://stringdb-downloads.org/download/protein.links.v12.0/9606.protein.links.v12.0.txt.gz"
   ]
  },
  {
   "cell_type": "code",
   "execution_count": 17,
   "metadata": {},
   "outputs": [],
   "source": [
    "!gzip -d 9606.protein.links.v12.0.txt.gz"
   ]
  },
  {
   "cell_type": "code",
   "execution_count": 18,
   "metadata": {},
   "outputs": [
    {
     "name": "stdout",
     "output_type": "stream",
     "text": [
      "protein1 protein2 combined_score\n",
      "9606.ENSP00000000233 9606.ENSP00000356607 173\n",
      "9606.ENSP00000000233 9606.ENSP00000427567 154\n",
      "9606.ENSP00000000233 9606.ENSP00000253413 151\n",
      "9606.ENSP00000000233 9606.ENSP00000493357 471\n",
      "9606.ENSP00000000233 9606.ENSP00000324127 201\n",
      "9606.ENSP00000000233 9606.ENSP00000325266 180\n",
      "9606.ENSP00000000233 9606.ENSP00000320935 181\n",
      "9606.ENSP00000000233 9606.ENSP00000371175 594\n",
      "9606.ENSP00000000233 9606.ENSP00000480364 154\n"
     ]
    }
   ],
   "source": [
    "# The combined score is computed by combining the probabilities from the different evidence channels and corrected for the probability of randomly observing an interaction.\n",
    "# Combined_score 범위:0 - 1000, min=150\n",
    "!head 9606.protein.links.v12.0.txt"
   ]
  },
  {
   "cell_type": "code",
   "execution_count": 20,
   "metadata": {},
   "outputs": [
    {
     "data": {
      "text/html": [
       "<div>\n",
       "<style scoped>\n",
       "    .dataframe tbody tr th:only-of-type {\n",
       "        vertical-align: middle;\n",
       "    }\n",
       "\n",
       "    .dataframe tbody tr th {\n",
       "        vertical-align: top;\n",
       "    }\n",
       "\n",
       "    .dataframe thead th {\n",
       "        text-align: right;\n",
       "    }\n",
       "</style>\n",
       "<table border=\"1\" class=\"dataframe\">\n",
       "  <thead>\n",
       "    <tr style=\"text-align: right;\">\n",
       "      <th></th>\n",
       "      <th>protein1</th>\n",
       "      <th>protein2</th>\n",
       "      <th>combined_score</th>\n",
       "    </tr>\n",
       "  </thead>\n",
       "  <tbody>\n",
       "    <tr>\n",
       "      <th>0</th>\n",
       "      <td>9606.ENSP00000000233</td>\n",
       "      <td>9606.ENSP00000356607</td>\n",
       "      <td>173</td>\n",
       "    </tr>\n",
       "    <tr>\n",
       "      <th>1</th>\n",
       "      <td>9606.ENSP00000000233</td>\n",
       "      <td>9606.ENSP00000427567</td>\n",
       "      <td>154</td>\n",
       "    </tr>\n",
       "    <tr>\n",
       "      <th>2</th>\n",
       "      <td>9606.ENSP00000000233</td>\n",
       "      <td>9606.ENSP00000253413</td>\n",
       "      <td>151</td>\n",
       "    </tr>\n",
       "    <tr>\n",
       "      <th>3</th>\n",
       "      <td>9606.ENSP00000000233</td>\n",
       "      <td>9606.ENSP00000493357</td>\n",
       "      <td>471</td>\n",
       "    </tr>\n",
       "    <tr>\n",
       "      <th>4</th>\n",
       "      <td>9606.ENSP00000000233</td>\n",
       "      <td>9606.ENSP00000324127</td>\n",
       "      <td>201</td>\n",
       "    </tr>\n",
       "    <tr>\n",
       "      <th>...</th>\n",
       "      <td>...</td>\n",
       "      <td>...</td>\n",
       "      <td>...</td>\n",
       "    </tr>\n",
       "    <tr>\n",
       "      <th>13715399</th>\n",
       "      <td>9606.ENSP00000501317</td>\n",
       "      <td>9606.ENSP00000475489</td>\n",
       "      <td>195</td>\n",
       "    </tr>\n",
       "    <tr>\n",
       "      <th>13715400</th>\n",
       "      <td>9606.ENSP00000501317</td>\n",
       "      <td>9606.ENSP00000370447</td>\n",
       "      <td>158</td>\n",
       "    </tr>\n",
       "    <tr>\n",
       "      <th>13715401</th>\n",
       "      <td>9606.ENSP00000501317</td>\n",
       "      <td>9606.ENSP00000312272</td>\n",
       "      <td>226</td>\n",
       "    </tr>\n",
       "    <tr>\n",
       "      <th>13715402</th>\n",
       "      <td>9606.ENSP00000501317</td>\n",
       "      <td>9606.ENSP00000402092</td>\n",
       "      <td>169</td>\n",
       "    </tr>\n",
       "    <tr>\n",
       "      <th>13715403</th>\n",
       "      <td>9606.ENSP00000501317</td>\n",
       "      <td>9606.ENSP00000404074</td>\n",
       "      <td>251</td>\n",
       "    </tr>\n",
       "  </tbody>\n",
       "</table>\n",
       "<p>13715404 rows × 3 columns</p>\n",
       "</div>"
      ],
      "text/plain": [
       "                      protein1              protein2  combined_score\n",
       "0         9606.ENSP00000000233  9606.ENSP00000356607             173\n",
       "1         9606.ENSP00000000233  9606.ENSP00000427567             154\n",
       "2         9606.ENSP00000000233  9606.ENSP00000253413             151\n",
       "3         9606.ENSP00000000233  9606.ENSP00000493357             471\n",
       "4         9606.ENSP00000000233  9606.ENSP00000324127             201\n",
       "...                        ...                   ...             ...\n",
       "13715399  9606.ENSP00000501317  9606.ENSP00000475489             195\n",
       "13715400  9606.ENSP00000501317  9606.ENSP00000370447             158\n",
       "13715401  9606.ENSP00000501317  9606.ENSP00000312272             226\n",
       "13715402  9606.ENSP00000501317  9606.ENSP00000402092             169\n",
       "13715403  9606.ENSP00000501317  9606.ENSP00000404074             251\n",
       "\n",
       "[13715404 rows x 3 columns]"
      ]
     },
     "execution_count": 20,
     "metadata": {},
     "output_type": "execute_result"
    }
   ],
   "source": [
    "df = pd.read_csv(\"9606.protein.links.v12.0.txt\", sep=\" \")\n",
    "df"
   ]
  },
  {
   "cell_type": "code",
   "execution_count": 21,
   "metadata": {},
   "outputs": [
    {
     "data": {
      "text/html": [
       "<div>\n",
       "<style scoped>\n",
       "    .dataframe tbody tr th:only-of-type {\n",
       "        vertical-align: middle;\n",
       "    }\n",
       "\n",
       "    .dataframe tbody tr th {\n",
       "        vertical-align: top;\n",
       "    }\n",
       "\n",
       "    .dataframe thead th {\n",
       "        text-align: right;\n",
       "    }\n",
       "</style>\n",
       "<table border=\"1\" class=\"dataframe\">\n",
       "  <thead>\n",
       "    <tr style=\"text-align: right;\">\n",
       "      <th></th>\n",
       "      <th>combined_score</th>\n",
       "    </tr>\n",
       "  </thead>\n",
       "  <tbody>\n",
       "    <tr>\n",
       "      <th>count</th>\n",
       "      <td>1.371540e+07</td>\n",
       "    </tr>\n",
       "    <tr>\n",
       "      <th>mean</th>\n",
       "      <td>2.686240e+02</td>\n",
       "    </tr>\n",
       "    <tr>\n",
       "      <th>std</th>\n",
       "      <td>1.569828e+02</td>\n",
       "    </tr>\n",
       "    <tr>\n",
       "      <th>min</th>\n",
       "      <td>1.500000e+02</td>\n",
       "    </tr>\n",
       "    <tr>\n",
       "      <th>25%</th>\n",
       "      <td>1.710000e+02</td>\n",
       "    </tr>\n",
       "    <tr>\n",
       "      <th>50%</th>\n",
       "      <td>2.090000e+02</td>\n",
       "    </tr>\n",
       "    <tr>\n",
       "      <th>75%</th>\n",
       "      <td>2.980000e+02</td>\n",
       "    </tr>\n",
       "    <tr>\n",
       "      <th>max</th>\n",
       "      <td>9.990000e+02</td>\n",
       "    </tr>\n",
       "  </tbody>\n",
       "</table>\n",
       "</div>"
      ],
      "text/plain": [
       "       combined_score\n",
       "count    1.371540e+07\n",
       "mean     2.686240e+02\n",
       "std      1.569828e+02\n",
       "min      1.500000e+02\n",
       "25%      1.710000e+02\n",
       "50%      2.090000e+02\n",
       "75%      2.980000e+02\n",
       "max      9.990000e+02"
      ]
     },
     "execution_count": 21,
     "metadata": {},
     "output_type": "execute_result"
    }
   ],
   "source": [
    "df.describe()"
   ]
  },
  {
   "cell_type": "code",
   "execution_count": 24,
   "metadata": {},
   "outputs": [
    {
     "data": {
      "text/plain": [
       "(150, 999)"
      ]
     },
     "execution_count": 24,
     "metadata": {},
     "output_type": "execute_result"
    }
   ],
   "source": [
    "min(df[\"combined_score\"]), max(df[\"combined_score\"])"
   ]
  },
  {
   "cell_type": "code",
   "execution_count": 25,
   "metadata": {},
   "outputs": [
    {
     "data": {
      "text/plain": [
       "(array([8268902., 2488640., 1158460.,  601074.,  396134.,  238656.,\n",
       "         165242.,  119588.,  107844.,  170864.]),\n",
       " array([150. , 234.9, 319.8, 404.7, 489.6, 574.5, 659.4, 744.3, 829.2,\n",
       "        914.1, 999. ]),\n",
       " <BarContainer object of 10 artists>)"
      ]
     },
     "execution_count": 25,
     "metadata": {},
     "output_type": "execute_result"
    },
    {
     "data": {
      "image/png": "[encoded data removed]",
      "text/plain": [
       "<Figure size 640x480 with 1 Axes>"
      ]
     },
     "metadata": {},
     "output_type": "display_data"
    }
   ],
   "source": [
    "plt.hist(df[\"combined_score\"], bins=10, color='blue', alpha=0.7)"
   ]
  },
  {
   "cell_type": "code",
   "execution_count": 26,
   "metadata": {},
   "outputs": [
    {
     "data": {
      "text/plain": [
       "0.014420574122351773"
      ]
     },
     "execution_count": 26,
     "metadata": {},
     "output_type": "execute_result"
    }
   ],
   "source": [
    "sum(df['combined_score'] > 900) / len(df)"
   ]
  },
  {
   "cell_type": "markdown",
   "metadata": {},
   "source": [
    "## Drug-Target Interaction Database"
   ]
  },
  {
   "cell_type": "code",
   "execution_count": 27,
   "metadata": {},
   "outputs": [
    {
     "name": "stdout",
     "output_type": "stream",
     "text": [
      "Collecting PyTDC\n",
      "  Downloading PyTDC-0.4.1.tar.gz (107 kB)\n",
      "\u001b[2K     \u001b[90m━━━━━━━━━━━━━━━━━━━━━━━━━━━━━━━━━━━━━━━\u001b[0m \u001b[32m107.7/107.7 kB\u001b[0m \u001b[31m5.6 MB/s\u001b[0m eta \u001b[36m0:00:00\u001b[0m\n",
      "\u001b[?25h  Preparing metadata (setup.py) ... \u001b[?25ldone\n",
      "\u001b[?25hCollecting rdkit-pypi (from PyTDC)\n",
      "  Downloading rdkit_pypi-2022.9.5-cp38-cp38-manylinux_2_17_x86_64.manylinux2014_x86_64.whl (29.4 MB)\n",
      "\u001b[2K     \u001b[90m━━━━━━━━━━━━━━━━━━━━━━━━━━━━━━━━━━━━━━━━\u001b[0m \u001b[32m29.4/29.4 MB\u001b[0m \u001b[31m24.0 MB/s\u001b[0m eta \u001b[36m0:00:00\u001b[0m00:01\u001b[0m00:01\u001b[0m\n",
      "\u001b[?25hCollecting fuzzywuzzy (from PyTDC)\n",
      "  Downloading fuzzywuzzy-0.18.0-py2.py3-none-any.whl (18 kB)\n",
      "Requirement already satisfied: numpy in /home/dbsejrgus226/miniconda3/envs/laidd/lib/python3.8/site-packages (from PyTDC) (1.24.3)\n",
      "Requirement already satisfied: pandas in /home/dbsejrgus226/miniconda3/envs/laidd/lib/python3.8/site-packages (from PyTDC) (2.0.3)\n",
      "Collecting tqdm (from PyTDC)\n",
      "  Using cached tqdm-4.66.1-py3-none-any.whl.metadata (57 kB)\n",
      "Collecting scikit-learn (from PyTDC)\n",
      "  Downloading scikit_learn-1.3.2-cp38-cp38-manylinux_2_17_x86_64.manylinux2014_x86_64.whl.metadata (11 kB)\n",
      "Collecting seaborn (from PyTDC)\n",
      "  Downloading seaborn-0.13.1-py3-none-any.whl.metadata (5.4 kB)\n",
      "Requirement already satisfied: requests in /home/dbsejrgus226/miniconda3/envs/laidd/lib/python3.8/site-packages (from PyTDC) (2.31.0)\n",
      "Collecting huggingface_hub (from PyTDC)\n",
      "  Downloading huggingface_hub-0.20.2-py3-none-any.whl.metadata (12 kB)\n",
      "Collecting dataclasses (from PyTDC)\n",
      "  Downloading dataclasses-0.6-py3-none-any.whl (14 kB)\n",
      "Requirement already satisfied: filelock in /home/dbsejrgus226/miniconda3/envs/laidd/lib/python3.8/site-packages (from huggingface_hub->PyTDC) (3.13.1)\n",
      "Collecting fsspec>=2023.5.0 (from huggingface_hub->PyTDC)\n",
      "  Downloading fsspec-2023.12.2-py3-none-any.whl.metadata (6.8 kB)\n",
      "Requirement already satisfied: pyyaml>=5.1 in /home/dbsejrgus226/miniconda3/envs/laidd/lib/python3.8/site-packages (from huggingface_hub->PyTDC) (6.0.1)\n",
      "Requirement already satisfied: typing-extensions>=3.7.4.3 in /home/dbsejrgus226/miniconda3/envs/laidd/lib/python3.8/site-packages (from huggingface_hub->PyTDC) (4.9.0)\n",
      "Requirement already satisfied: packaging>=20.9 in /home/dbsejrgus226/miniconda3/envs/laidd/lib/python3.8/site-packages (from huggingface_hub->PyTDC) (23.2)\n",
      "Requirement already satisfied: python-dateutil>=2.8.2 in /home/dbsejrgus226/miniconda3/envs/laidd/lib/python3.8/site-packages (from pandas->PyTDC) (2.8.2)\n",
      "Requirement already satisfied: pytz>=2020.1 in /home/dbsejrgus226/miniconda3/envs/laidd/lib/python3.8/site-packages (from pandas->PyTDC) (2023.3.post1)\n",
      "Requirement already satisfied: tzdata>=2022.1 in /home/dbsejrgus226/miniconda3/envs/laidd/lib/python3.8/site-packages (from pandas->PyTDC) (2023.3)\n",
      "Requirement already satisfied: Pillow in /home/dbsejrgus226/miniconda3/envs/laidd/lib/python3.8/site-packages (from rdkit-pypi->PyTDC) (10.0.1)\n",
      "Requirement already satisfied: charset-normalizer<4,>=2 in /home/dbsejrgus226/miniconda3/envs/laidd/lib/python3.8/site-packages (from requests->PyTDC) (2.0.4)\n",
      "Requirement already satisfied: idna<4,>=2.5 in /home/dbsejrgus226/miniconda3/envs/laidd/lib/python3.8/site-packages (from requests->PyTDC) (3.4)\n",
      "Requirement already satisfied: urllib3<3,>=1.21.1 in /home/dbsejrgus226/miniconda3/envs/laidd/lib/python3.8/site-packages (from requests->PyTDC) (1.26.18)\n",
      "Requirement already satisfied: certifi>=2017.4.17 in /home/dbsejrgus226/miniconda3/envs/laidd/lib/python3.8/site-packages (from requests->PyTDC) (2023.11.17)\n",
      "Collecting scipy>=1.5.0 (from scikit-learn->PyTDC)\n",
      "  Downloading scipy-1.10.1-cp38-cp38-manylinux_2_17_x86_64.manylinux2014_x86_64.whl (34.5 MB)\n",
      "\u001b[2K     \u001b[90m━━━━━━━━━━━━━━━━━━━━━━━━━━━━━━━━━━━━━━━━\u001b[0m \u001b[32m34.5/34.5 MB\u001b[0m \u001b[31m20.8 MB/s\u001b[0m eta \u001b[36m0:00:00\u001b[0m00:01\u001b[0m00:01\u001b[0m\n",
      "\u001b[?25hCollecting joblib>=1.1.1 (from scikit-learn->PyTDC)\n",
      "  Using cached joblib-1.3.2-py3-none-any.whl.metadata (5.4 kB)\n",
      "Collecting threadpoolctl>=2.0.0 (from scikit-learn->PyTDC)\n",
      "  Downloading threadpoolctl-3.2.0-py3-none-any.whl.metadata (10.0 kB)\n",
      "Requirement already satisfied: matplotlib!=3.6.1,>=3.4 in /home/dbsejrgus226/miniconda3/envs/laidd/lib/python3.8/site-packages (from seaborn->PyTDC) (3.7.2)\n",
      "Requirement already satisfied: contourpy>=1.0.1 in /home/dbsejrgus226/miniconda3/envs/laidd/lib/python3.8/site-packages (from matplotlib!=3.6.1,>=3.4->seaborn->PyTDC) (1.0.5)\n",
      "Requirement already satisfied: cycler>=0.10 in /home/dbsejrgus226/miniconda3/envs/laidd/lib/python3.8/site-packages (from matplotlib!=3.6.1,>=3.4->seaborn->PyTDC) (0.11.0)\n",
      "Requirement already satisfied: fonttools>=4.22.0 in /home/dbsejrgus226/miniconda3/envs/laidd/lib/python3.8/site-packages (from matplotlib!=3.6.1,>=3.4->seaborn->PyTDC) (4.25.0)\n",
      "Requirement already satisfied: kiwisolver>=1.0.1 in /home/dbsejrgus226/miniconda3/envs/laidd/lib/python3.8/site-packages (from matplotlib!=3.6.1,>=3.4->seaborn->PyTDC) (1.4.4)\n",
      "Requirement already satisfied: pyparsing<3.1,>=2.3.1 in /home/dbsejrgus226/miniconda3/envs/laidd/lib/python3.8/site-packages (from matplotlib!=3.6.1,>=3.4->seaborn->PyTDC) (3.0.9)\n",
      "Requirement already satisfied: importlib-resources>=3.2.0 in /home/dbsejrgus226/miniconda3/envs/laidd/lib/python3.8/site-packages (from matplotlib!=3.6.1,>=3.4->seaborn->PyTDC) (6.1.1)\n",
      "Requirement already satisfied: six>=1.5 in /home/dbsejrgus226/miniconda3/envs/laidd/lib/python3.8/site-packages (from python-dateutil>=2.8.2->pandas->PyTDC) (1.16.0)\n",
      "Requirement already satisfied: zipp>=3.1.0 in /home/dbsejrgus226/miniconda3/envs/laidd/lib/python3.8/site-packages (from importlib-resources>=3.2.0->matplotlib!=3.6.1,>=3.4->seaborn->PyTDC) (3.17.0)\n",
      "Downloading huggingface_hub-0.20.2-py3-none-any.whl (330 kB)\n",
      "\u001b[2K   \u001b[90m━━━━━━━━━━━━━━━━━━━━━━━━━━━━━━━━━━━━━━━━\u001b[0m \u001b[32m330.3/330.3 kB\u001b[0m \u001b[31m29.0 MB/s\u001b[0m eta \u001b[36m0:00:00\u001b[0m\n",
      "\u001b[?25hUsing cached tqdm-4.66.1-py3-none-any.whl (78 kB)\n",
      "Downloading scikit_learn-1.3.2-cp38-cp38-manylinux_2_17_x86_64.manylinux2014_x86_64.whl (11.1 MB)\n",
      "\u001b[2K   \u001b[90m━━━━━━━━━━━━━━━━━━━━━━━━━━━━━━━━━━━━━━━━\u001b[0m \u001b[32m11.1/11.1 MB\u001b[0m \u001b[31m26.3 MB/s\u001b[0m eta \u001b[36m0:00:00\u001b[0m00:01\u001b[0m0:01\u001b[0m\n",
      "\u001b[?25hDownloading seaborn-0.13.1-py3-none-any.whl (294 kB)\n",
      "\u001b[2K   \u001b[90m━━━━━━━━━━━━━━━━━━━━━━━━━━━━━━━━━━━━━━━━\u001b[0m \u001b[32m294.8/294.8 kB\u001b[0m \u001b[31m41.9 MB/s\u001b[0m eta \u001b[36m0:00:00\u001b[0m\n",
      "\u001b[?25hDownloading fsspec-2023.12.2-py3-none-any.whl (168 kB)\n",
      "\u001b[2K   \u001b[90m━━━━━━━━━━━━━━━━━━━━━━━━━━━━━━━━━━━━━━━━\u001b[0m \u001b[32m169.0/169.0 kB\u001b[0m \u001b[31m34.9 MB/s\u001b[0m eta \u001b[36m0:00:00\u001b[0m\n",
      "\u001b[?25hDownloading joblib-1.3.2-py3-none-any.whl (302 kB)\n",
      "\u001b[2K   \u001b[90m━━━━━━━━━━━━━━━━━━━━━━━━━━━━━━━━━━━━━━━━\u001b[0m \u001b[32m302.2/302.2 kB\u001b[0m \u001b[31m35.7 MB/s\u001b[0m eta \u001b[36m0:00:00\u001b[0m\n",
      "\u001b[?25hDownloading threadpoolctl-3.2.0-py3-none-any.whl (15 kB)\n",
      "Building wheels for collected packages: PyTDC\n",
      "  Building wheel for PyTDC (setup.py) ... \u001b[?25ldone\n",
      "\u001b[?25h  Created wheel for PyTDC: filename=PyTDC-0.4.1-py3-none-any.whl size=140644 sha256=ac0e268938505a7e350e82df783e5d0b7e7ce0c488a8c6766ea7fc3e99fc0e69\n",
      "  Stored in directory: /home/dbsejrgus226/.cache/pip/wheels/c7/e3/01/620ac4dc63e555a41bd97a49c7d0198fd2889ce01a8c19552e\n",
      "Successfully built PyTDC\n",
      "Installing collected packages: fuzzywuzzy, dataclasses, tqdm, threadpoolctl, scipy, rdkit-pypi, joblib, fsspec, scikit-learn, huggingface_hub, seaborn, PyTDC\n",
      "Successfully installed PyTDC-0.4.1 dataclasses-0.6 fsspec-2023.12.2 fuzzywuzzy-0.18.0 huggingface_hub-0.20.2 joblib-1.3.2 rdkit-pypi-2022.9.5 scikit-learn-1.3.2 scipy-1.10.1 seaborn-0.13.1 threadpoolctl-3.2.0 tqdm-4.66.1\n"
     ]
    }
   ],
   "source": [
    "!pip install PyTDC"
   ]
  },
  {
   "cell_type": "code",
   "execution_count": 28,
   "metadata": {},
   "outputs": [
    {
     "name": "stderr",
     "output_type": "stream",
     "text": [
      "Downloading...\n",
      "100%|██████████| 54.4M/54.4M [00:19<00:00, 2.79MiB/s]\n",
      "Loading...\n",
      "Done!\n"
     ]
    }
   ],
   "source": [
    "from tdc.multi_pred import DTI\n",
    "data = DTI(name = 'BindingDB_Kd')"
   ]
  },
  {
   "cell_type": "code",
   "execution_count": 32,
   "metadata": {},
   "outputs": [
    {
     "data": {
      "text/plain": [
       "['__class__',\n",
       " '__delattr__',\n",
       " '__dict__',\n",
       " '__dir__',\n",
       " '__doc__',\n",
       " '__eq__',\n",
       " '__format__',\n",
       " '__ge__',\n",
       " '__getattribute__',\n",
       " '__gt__',\n",
       " '__hash__',\n",
       " '__init__',\n",
       " '__init_subclass__',\n",
       " '__le__',\n",
       " '__len__',\n",
       " '__lt__',\n",
       " '__module__',\n",
       " '__ne__',\n",
       " '__new__',\n",
       " '__reduce__',\n",
       " '__reduce_ex__',\n",
       " '__repr__',\n",
       " '__setattr__',\n",
       " '__sizeof__',\n",
       " '__str__',\n",
       " '__subclasshook__',\n",
       " '__weakref__',\n",
       " 'aux_column',\n",
       " 'aux_column_val',\n",
       " 'balanced',\n",
       " 'binarize',\n",
       " 'convert_from_log',\n",
       " 'convert_to_log',\n",
       " 'entity1',\n",
       " 'entity1_idx',\n",
       " 'entity1_name',\n",
       " 'entity2',\n",
       " 'entity2_idx',\n",
       " 'entity2_name',\n",
       " 'file_format',\n",
       " 'get_data',\n",
       " 'get_label_meaning',\n",
       " 'get_split',\n",
       " 'harmonize_affinities',\n",
       " 'label_distribution',\n",
       " 'label_name',\n",
       " 'log_flag',\n",
       " 'name',\n",
       " 'neg_sample',\n",
       " 'path',\n",
       " 'print_stats',\n",
       " 'raw_y',\n",
       " 'to_graph',\n",
       " 'two_types',\n",
       " 'y']"
      ]
     },
     "execution_count": 32,
     "metadata": {},
     "output_type": "execute_result"
    }
   ],
   "source": [
    "dir(data)# dir은 해당 객체가 어떤 변수와 사용할 수 있는 method를 가지고 있는지 나열해줌"
   ]
  },
  {
   "cell_type": "code",
   "execution_count": 33,
   "metadata": {},
   "outputs": [
    {
     "data": {
      "text/html": [
       "<div>\n",
       "<style scoped>\n",
       "    .dataframe tbody tr th:only-of-type {\n",
       "        vertical-align: middle;\n",
       "    }\n",
       "\n",
       "    .dataframe tbody tr th {\n",
       "        vertical-align: top;\n",
       "    }\n",
       "\n",
       "    .dataframe thead th {\n",
       "        text-align: right;\n",
       "    }\n",
       "</style>\n",
       "<table border=\"1\" class=\"dataframe\">\n",
       "  <thead>\n",
       "    <tr style=\"text-align: right;\">\n",
       "      <th></th>\n",
       "      <th>Drug_ID</th>\n",
       "      <th>Drug</th>\n",
       "      <th>Target_ID</th>\n",
       "      <th>Target</th>\n",
       "      <th>Y</th>\n",
       "    </tr>\n",
       "  </thead>\n",
       "  <tbody>\n",
       "    <tr>\n",
       "      <th>0</th>\n",
       "      <td>444607.0</td>\n",
       "      <td>Cc1ccc(CNS(=O)(=O)c2ccc(S(N)(=O)=O)s2)cc1</td>\n",
       "      <td>P00918</td>\n",
       "      <td>MSHHWGYGKHNGPEHWHKDFPIAKGERQSPVDIDTHTAKYDPSLKP...</td>\n",
       "      <td>0.460</td>\n",
       "    </tr>\n",
       "    <tr>\n",
       "      <th>1</th>\n",
       "      <td>4316.0</td>\n",
       "      <td>COc1ccc(CNS(=O)(=O)c2ccc(S(N)(=O)=O)s2)cc1</td>\n",
       "      <td>P00918</td>\n",
       "      <td>MSHHWGYGKHNGPEHWHKDFPIAKGERQSPVDIDTHTAKYDPSLKP...</td>\n",
       "      <td>0.490</td>\n",
       "    </tr>\n",
       "    <tr>\n",
       "      <th>2</th>\n",
       "      <td>4293.0</td>\n",
       "      <td>NS(=O)(=O)c1ccc(S(=O)(=O)NCc2cccs2)s1</td>\n",
       "      <td>P00918</td>\n",
       "      <td>MSHHWGYGKHNGPEHWHKDFPIAKGERQSPVDIDTHTAKYDPSLKP...</td>\n",
       "      <td>0.830</td>\n",
       "    </tr>\n",
       "    <tr>\n",
       "      <th>3</th>\n",
       "      <td>1611.0</td>\n",
       "      <td>NS(=O)(=O)c1cc2c(s1)S(=O)(=O)N(Cc1cccs1)CC2O</td>\n",
       "      <td>P00918</td>\n",
       "      <td>MSHHWGYGKHNGPEHWHKDFPIAKGERQSPVDIDTHTAKYDPSLKP...</td>\n",
       "      <td>0.200</td>\n",
       "    </tr>\n",
       "    <tr>\n",
       "      <th>4</th>\n",
       "      <td>1612.0</td>\n",
       "      <td>COc1ccc(N2CC(O)c3cc(S(N)(=O)=O)sc3S2(=O)=O)cc1</td>\n",
       "      <td>P00918</td>\n",
       "      <td>MSHHWGYGKHNGPEHWHKDFPIAKGERQSPVDIDTHTAKYDPSLKP...</td>\n",
       "      <td>0.160</td>\n",
       "    </tr>\n",
       "    <tr>\n",
       "      <th>...</th>\n",
       "      <td>...</td>\n",
       "      <td>...</td>\n",
       "      <td>...</td>\n",
       "      <td>...</td>\n",
       "      <td>...</td>\n",
       "    </tr>\n",
       "    <tr>\n",
       "      <th>52269</th>\n",
       "      <td>53358942.0</td>\n",
       "      <td>COc1cc(C(=O)O)ccc1NC(=O)[C@@H]1N[C@@H](CC(C)(C...</td>\n",
       "      <td>NaN</td>\n",
       "      <td>MCNTNMSVPTDGAVTTSQIPASEQETLVRPKPLLLKLLKSVGAQKD...</td>\n",
       "      <td>0.150</td>\n",
       "    </tr>\n",
       "    <tr>\n",
       "      <th>52270</th>\n",
       "      <td>53476877.0</td>\n",
       "      <td>CC(C)(C)C[C@@H]1N[C@@H](C(=O)N[C@H]2CC[C@H](O)...</td>\n",
       "      <td>NaN</td>\n",
       "      <td>MCNTNMSVPTDGAVTTSQIPASEQETLVRPKPLLLKLLKSVGAQKD...</td>\n",
       "      <td>2.700</td>\n",
       "    </tr>\n",
       "    <tr>\n",
       "      <th>52271</th>\n",
       "      <td>58573469.0</td>\n",
       "      <td>CC(C)[C@@H](CS(=O)(=O)C(C)C)N1C(=O)[C@@](C)(CC...</td>\n",
       "      <td>NaN</td>\n",
       "      <td>MCNTNMSVPTDGAVTTSQIPASEQETLVRPKPLLLKLLKSVGAQKD...</td>\n",
       "      <td>0.045</td>\n",
       "    </tr>\n",
       "    <tr>\n",
       "      <th>52272</th>\n",
       "      <td>113557.0</td>\n",
       "      <td>CCCCCCCOC1OC(CO)C(O)C(O)C1O</td>\n",
       "      <td>P08191</td>\n",
       "      <td>MKRVITLFAVLLMGWSVNAWSFACKTANGTAIPIGGGSANVYVNLA...</td>\n",
       "      <td>17.000</td>\n",
       "    </tr>\n",
       "    <tr>\n",
       "      <th>52273</th>\n",
       "      <td>113557.0</td>\n",
       "      <td>CCCCCCCOC1OC(CO)C(O)C(O)C1O</td>\n",
       "      <td>P08191</td>\n",
       "      <td>MKRVITLFAVLLMGWSVNAWSFACKTANGTAIPIGGGSANVYVNLA...</td>\n",
       "      <td>19.000</td>\n",
       "    </tr>\n",
       "  </tbody>\n",
       "</table>\n",
       "<p>52274 rows × 5 columns</p>\n",
       "</div>"
      ],
      "text/plain": [
       "          Drug_ID                                               Drug  \\\n",
       "0        444607.0          Cc1ccc(CNS(=O)(=O)c2ccc(S(N)(=O)=O)s2)cc1   \n",
       "1          4316.0         COc1ccc(CNS(=O)(=O)c2ccc(S(N)(=O)=O)s2)cc1   \n",
       "2          4293.0              NS(=O)(=O)c1ccc(S(=O)(=O)NCc2cccs2)s1   \n",
       "3          1611.0       NS(=O)(=O)c1cc2c(s1)S(=O)(=O)N(Cc1cccs1)CC2O   \n",
       "4          1612.0     COc1ccc(N2CC(O)c3cc(S(N)(=O)=O)sc3S2(=O)=O)cc1   \n",
       "...           ...                                                ...   \n",
       "52269  53358942.0  COc1cc(C(=O)O)ccc1NC(=O)[C@@H]1N[C@@H](CC(C)(C...   \n",
       "52270  53476877.0  CC(C)(C)C[C@@H]1N[C@@H](C(=O)N[C@H]2CC[C@H](O)...   \n",
       "52271  58573469.0  CC(C)[C@@H](CS(=O)(=O)C(C)C)N1C(=O)[C@@](C)(CC...   \n",
       "52272    113557.0                        CCCCCCCOC1OC(CO)C(O)C(O)C1O   \n",
       "52273    113557.0                        CCCCCCCOC1OC(CO)C(O)C(O)C1O   \n",
       "\n",
       "      Target_ID                                             Target       Y  \n",
       "0        P00918  MSHHWGYGKHNGPEHWHKDFPIAKGERQSPVDIDTHTAKYDPSLKP...   0.460  \n",
       "1        P00918  MSHHWGYGKHNGPEHWHKDFPIAKGERQSPVDIDTHTAKYDPSLKP...   0.490  \n",
       "2        P00918  MSHHWGYGKHNGPEHWHKDFPIAKGERQSPVDIDTHTAKYDPSLKP...   0.830  \n",
       "3        P00918  MSHHWGYGKHNGPEHWHKDFPIAKGERQSPVDIDTHTAKYDPSLKP...   0.200  \n",
       "4        P00918  MSHHWGYGKHNGPEHWHKDFPIAKGERQSPVDIDTHTAKYDPSLKP...   0.160  \n",
       "...         ...                                                ...     ...  \n",
       "52269       NaN  MCNTNMSVPTDGAVTTSQIPASEQETLVRPKPLLLKLLKSVGAQKD...   0.150  \n",
       "52270       NaN  MCNTNMSVPTDGAVTTSQIPASEQETLVRPKPLLLKLLKSVGAQKD...   2.700  \n",
       "52271       NaN  MCNTNMSVPTDGAVTTSQIPASEQETLVRPKPLLLKLLKSVGAQKD...   0.045  \n",
       "52272    P08191  MKRVITLFAVLLMGWSVNAWSFACKTANGTAIPIGGGSANVYVNLA...  17.000  \n",
       "52273    P08191  MKRVITLFAVLLMGWSVNAWSFACKTANGTAIPIGGGSANVYVNLA...  19.000  \n",
       "\n",
       "[52274 rows x 5 columns]"
      ]
     },
     "execution_count": 33,
     "metadata": {},
     "output_type": "execute_result"
    }
   ],
   "source": [
    "data.get_data()"
   ]
  },
  {
   "cell_type": "code",
   "execution_count": 36,
   "metadata": {},
   "outputs": [
    {
     "data": {
      "text/plain": [
       "count    5.227400e+04\n",
       "mean     4.353189e+04\n",
       "std      4.102312e+05\n",
       "min      0.000000e+00\n",
       "25%      2.200000e+02\n",
       "50%      9.800000e+03\n",
       "75%      1.000000e+04\n",
       "max      1.000000e+07\n",
       "Name: Y, dtype: float64"
      ]
     },
     "execution_count": 36,
     "metadata": {},
     "output_type": "execute_result"
    }
   ],
   "source": [
    "data.get_data()['Y'].describe()"
   ]
  },
  {
   "cell_type": "code",
   "execution_count": 37,
   "metadata": {},
   "outputs": [
    {
     "data": {
      "text/plain": [
       "(0.0, 10000000.0)"
      ]
     },
     "execution_count": 37,
     "metadata": {},
     "output_type": "execute_result"
    }
   ],
   "source": [
    "min(data.get_data()['Y']), max(data.get_data()['Y'])"
   ]
  }
 ],
 "metadata": {
  "kernelspec": {
   "display_name": "laidd",
   "language": "python",
   "name": "python3"
  },
  "language_info": {
   "codemirror_mode": {
    "name": "ipython",
    "version": 3
   },
   "file_extension": ".py",
   "mimetype": "text/x-python",
   "name": "python",
   "nbconvert_exporter": "python",
   "pygments_lexer": "ipython3",
   "version": "3.8.18"
  }
 },
 "nbformat": 4,
 "nbformat_minor": 2
}
